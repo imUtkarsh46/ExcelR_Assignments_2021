{
 "cells": [
  {
   "cell_type": "code",
   "execution_count": null,
   "id": "d9d185df",
   "metadata": {
    "id": "d9d185df"
   },
   "outputs": [],
   "source": [
    "import pandas as pd\n",
    "import numpy as np\n",
    "import matplotlib.pyplot as plt\n",
    "%matplotlib inline\n",
    "import statsmodels.api as sm\n",
    "import warnings"
   ]
  },
  {
   "cell_type": "code",
   "execution_count": null,
   "id": "7c436763",
   "metadata": {
    "id": "7c436763"
   },
   "outputs": [],
   "source": [
    "passengers = pd.read_csv(\"F:ExcelR/DataSets/Airlines+Data.csv\")"
   ]
  },
  {
   "cell_type": "code",
   "execution_count": null,
   "id": "b3847127",
   "metadata": {
    "colab": {
     "base_uri": "https://localhost:8080/",
     "height": 206
    },
    "id": "b3847127",
    "outputId": "9b1d542a-c8b9-4620-a314-8e869b5c4cdf"
   },
   "outputs": [],
   "source": [
    "passengers.head()"
   ]
  },
  {
   "cell_type": "code",
   "execution_count": null,
   "id": "f398a4de",
   "metadata": {
    "id": "f398a4de"
   },
   "outputs": [],
   "source": [
    "dates = pd.date_range(start='1949-01-01', freq='MS',periods=len(passengers))"
   ]
  },
  {
   "cell_type": "code",
   "execution_count": null,
   "id": "10f7a7bd",
   "metadata": {
    "colab": {
     "base_uri": "https://localhost:8080/"
    },
    "id": "10f7a7bd",
    "outputId": "3988ab9b-49f9-4338-b965-46552a4ba6c8"
   },
   "outputs": [],
   "source": [
    "dates"
   ]
  },
  {
   "cell_type": "code",
   "execution_count": null,
   "id": "9ad0d7e8",
   "metadata": {
    "id": "9ad0d7e8"
   },
   "outputs": [],
   "source": [
    "passengers['Month'] = dates.month\n",
    "passengers['Year'] = dates.year"
   ]
  },
  {
   "cell_type": "code",
   "execution_count": null,
   "id": "f7fc5bed",
   "metadata": {
    "colab": {
     "base_uri": "https://localhost:8080/",
     "height": 206
    },
    "id": "f7fc5bed",
    "outputId": "35222f71-526b-481f-814d-d45a63447e34"
   },
   "outputs": [],
   "source": [
    "passengers.head()"
   ]
  },
  {
   "cell_type": "code",
   "execution_count": null,
   "id": "12f1501d",
   "metadata": {
    "colab": {
     "base_uri": "https://localhost:8080/"
    },
    "id": "12f1501d",
    "outputId": "4c80ea4d-2b5b-498f-a493-b04fd4cbdf3f"
   },
   "outputs": [],
   "source": [
    "passengers.dtypes"
   ]
  },
  {
   "cell_type": "code",
   "execution_count": null,
   "id": "e9c4a345",
   "metadata": {
    "colab": {
     "base_uri": "https://localhost:8080/",
     "height": 206
    },
    "id": "e9c4a345",
    "outputId": "c179573a-9d98-4164-ad8c-293def98aa3c"
   },
   "outputs": [],
   "source": [
    "passengers.head()"
   ]
  },
  {
   "cell_type": "code",
   "execution_count": null,
   "id": "d67dee90",
   "metadata": {
    "id": "d67dee90"
   },
   "outputs": [],
   "source": [
    "import calendar\n",
    "passengers['Month'] = passengers['Month'].apply(lambda x: calendar.month_abbr[x])\n",
    "passengers.rename({'#Passengers':'Passengers'},axis=1,inplace=True)\n",
    "passengers = passengers[['Month','Year','Passengers']]"
   ]
  },
  {
   "cell_type": "code",
   "execution_count": null,
   "id": "af1e83a0",
   "metadata": {
    "colab": {
     "base_uri": "https://localhost:8080/",
     "height": 206
    },
    "id": "af1e83a0",
    "outputId": "c156f1a3-d08a-4629-ce28-39c5aa2d55e9"
   },
   "outputs": [],
   "source": [
    "passengers.head()"
   ]
  },
  {
   "cell_type": "code",
   "execution_count": null,
   "id": "da0c968c",
   "metadata": {
    "id": "da0c968c"
   },
   "outputs": [],
   "source": [
    "passengers['Date'] = dates\n",
    "passengers.set_index('Date',inplace=True)"
   ]
  },
  {
   "cell_type": "code",
   "execution_count": null,
   "id": "5926ff63",
   "metadata": {
    "colab": {
     "base_uri": "https://localhost:8080/",
     "height": 238
    },
    "id": "5926ff63",
    "outputId": "bb607dd8-0955-46df-de31-624fd00f63a8"
   },
   "outputs": [],
   "source": [
    "passengers.head()"
   ]
  },
  {
   "cell_type": "code",
   "execution_count": null,
   "id": "2e0bbd53",
   "metadata": {
    "colab": {
     "base_uri": "https://localhost:8080/",
     "height": 512
    },
    "id": "2e0bbd53",
    "outputId": "65fe41ac-bf69-47a1-f1e3-787b15efdc37"
   },
   "outputs": [],
   "source": [
    "plt.figure(figsize=(10,8))\n",
    "passengers.groupby('Year')['Passengers'].mean().plot(kind='bar')\n",
    "plt.show()\n"
   ]
  },
  {
   "cell_type": "code",
   "execution_count": null,
   "id": "bc7e10d8",
   "metadata": {
    "colab": {
     "base_uri": "https://localhost:8080/",
     "height": 0
    },
    "id": "bc7e10d8",
    "outputId": "9f4a5e96-1484-444d-fd99-f78546540199"
   },
   "outputs": [],
   "source": [
    "plt.figure(figsize=(10,8))\n",
    "passengers.groupby('Month')['Passengers'].mean().reindex(index=['Jan','Feb','Mar','Apr','May','Jun','Jul','Aug','Sep','Oct','Nov','Dec']).plot(kind='bar')\n",
    "plt.show()"
   ]
  },
  {
   "cell_type": "code",
   "execution_count": null,
   "id": "2cf6c6f0",
   "metadata": {
    "id": "2cf6c6f0"
   },
   "outputs": [],
   "source": [
    "passengers_count = passengers['Passengers']"
   ]
  },
  {
   "cell_type": "code",
   "execution_count": null,
   "id": "07eaab5b",
   "metadata": {
    "colab": {
     "base_uri": "https://localhost:8080/",
     "height": 497
    },
    "id": "07eaab5b",
    "outputId": "b627250f-d6da-4521-a6ae-85b29a5b77fc"
   },
   "outputs": [],
   "source": [
    "plt.figure(figsize=(10,8))\n",
    "passengers_count.plot()\n",
    "plt.xlabel('Year')\n",
    "plt.ylabel('Number of Passengers')\n",
    "plt.show()"
   ]
  },
  {
   "cell_type": "code",
   "execution_count": null,
   "id": "ded4397b",
   "metadata": {
    "id": "ded4397b"
   },
   "outputs": [],
   "source": [
    "decompose = sm.tsa.seasonal_decompose(passengers_count,model='multiplicative',extrapolate_trend=8)"
   ]
  },
  {
   "cell_type": "code",
   "execution_count": null,
   "id": "00caa47e",
   "metadata": {
    "colab": {
     "base_uri": "https://localhost:8080/",
     "height": 680
    },
    "id": "00caa47e",
    "outputId": "d8502e24-1a73-4233-dd28-b4685d465acb"
   },
   "outputs": [],
   "source": [
    "fig = decompose.plot()\n",
    "fig.set_figheight(10)\n",
    "fig.set_figwidth(8)\n",
    "fig.suptitle('Decomposition of Time Series')"
   ]
  },
  {
   "cell_type": "markdown",
   "id": "b7908f11",
   "metadata": {
    "id": "b7908f11"
   },
   "source": [
    "## Trend\n",
    " Time Series Decomposition: To begin with let's try to decipher trends embedded in the above tractor sales time series. It is clearly evident that there is an overall increasing trend in the data along with some seasonal variations. However, it might not always be possible to make such visual inferences.\n",
    "   So, more formally, we can check stationarity using the following: Plotting Rolling Statistics: We can plot the moving average or moving variance and see if it varies with time. By moving average/variance we mean that at any instant 't', we'll take the average/variance of the last year, i.e. last 12 months. But again this is more of a visual technique.\n",
    "   Now, let’s try to remove wrinkles from our time series using moving average. We will take moving average of different time periods i.e. 4,6,8, and 12 months as shown below. Here, moving average is shown in orange and actual series in blue."
   ]
  },
  {
   "cell_type": "code",
   "execution_count": null,
   "id": "3a1ce42d",
   "metadata": {
    "colab": {
     "base_uri": "https://localhost:8080/",
     "height": 729
    },
    "id": "3a1ce42d",
    "outputId": "db9b0a74-55b1-4781-c447-682dceb81f3d"
   },
   "outputs": [],
   "source": [
    "fig,axes = plt.subplots(2,2)\n",
    "fig.set_figheight(10)\n",
    "fig.set_figwidth(15)\n",
    "axes[0][0].plot(passengers.index,passengers_count,label='Actual')\n",
    "axes[0][0].plot(passengers.index,passengers_count.rolling(window=4).mean(),label='4 months rolling mean')\n",
    "axes[0][0].set_xlabel('Year')\n",
    "axes[0][0].set_ylabel('Number of Passengers')\n",
    "axes[0][0].set_title('4 Months Rolling Mean')\n",
    "axes[0][0].legend(loc='best')\n",
    "\n",
    "\n",
    "axes[0][1].plot(passengers.index,passengers_count,label='Actual')\n",
    "axes[0][1].plot(passengers.index,passengers_count.rolling(window=6).mean(),label='6 months rolling mean')\n",
    "axes[0][1].set_xlabel('Year')\n",
    "axes[0][1].set_ylabel('Number of Passengers')\n",
    "axes[0][1].set_title('6 Months Rolling Mean')\n",
    "axes[0][1].legend(loc='best')\n",
    "\n",
    "\n",
    "\n",
    "axes[1][0].plot(passengers.index,passengers_count,label='Actual')\n",
    "axes[1][0].plot(passengers.index,passengers_count.rolling(window=8).mean(),label='8 months rolling mean')\n",
    "axes[1][0].set_xlabel('Year')\n",
    "axes[1][0].set_ylabel('Number of Passengers')\n",
    "axes[1][0].set_title('8 Months Rolling Mean')\n",
    "axes[1][0].legend(loc='best')\n",
    "\n",
    "\n",
    "axes[1][1].plot(passengers.index,passengers_count,label='Actual')\n",
    "axes[1][1].plot(passengers.index,passengers_count.rolling(window=12).mean(),label='12 months rolling mean')\n",
    "axes[1][1].set_xlabel('Year')\n",
    "axes[1][1].set_ylabel('Number of Passengers')\n",
    "axes[1][1].set_title('12 Months Rolling Mean')\n",
    "axes[1][1].legend(loc='best')\n",
    "\n",
    "plt.tight_layout()\n",
    "plt.show()"
   ]
  },
  {
   "cell_type": "markdown",
   "id": "4c1346f0",
   "metadata": {
    "id": "4c1346f0"
   },
   "source": [
    "#### As we could see in the above plots, 12-month moving average could produce a wrinkle free curve as desired. This on some level is expected since we are using month-wise data for our analysis and there is expected monthly-seasonal effect in our data.\n",
    "\n",
    "### Seasonality\n",
    "#### Let us see how many passengers travelled in flights on a month on month basis. We will plot a stacked annual plot to observe seasonality in our data."
   ]
  },
  {
   "cell_type": "code",
   "execution_count": null,
   "id": "534bc3c7",
   "metadata": {
    "colab": {
     "base_uri": "https://localhost:8080/",
     "height": 0
    },
    "id": "534bc3c7",
    "outputId": "f1972b0d-3d27-4ce1-c3d0-243fff303371"
   },
   "outputs": [],
   "source": [
    "passengers.head()"
   ]
  },
  {
   "cell_type": "code",
   "execution_count": null,
   "id": "020a7bb7",
   "metadata": {
    "id": "020a7bb7"
   },
   "outputs": [],
   "source": [
    "monthly = pd.pivot_table(data=passengers,values='Passengers',index='Month',columns='Year')\n",
    "monthly = monthly.reindex(index=['Jan','Feb','Mar','Apr','May','Jun','Jul','Aug','Sep','Oct','Nov','Dec'])"
   ]
  },
  {
   "cell_type": "code",
   "execution_count": null,
   "id": "846cbb80",
   "metadata": {
    "colab": {
     "base_uri": "https://localhost:8080/",
     "height": 0
    },
    "id": "846cbb80",
    "outputId": "e1d2f183-6ba1-4779-d027-ff185bfd4440"
   },
   "outputs": [],
   "source": [
    "monthly"
   ]
  },
  {
   "cell_type": "code",
   "execution_count": null,
   "id": "cd40d699",
   "metadata": {
    "colab": {
     "base_uri": "https://localhost:8080/",
     "height": 0
    },
    "id": "cd40d699",
    "outputId": "6693c905-59e5-4e94-91af-9c190846f8b6"
   },
   "outputs": [],
   "source": [
    "monthly.plot(figsize=(8,6))\n",
    "plt.show()"
   ]
  },
  {
   "cell_type": "code",
   "execution_count": null,
   "id": "1a90c295",
   "metadata": {
    "id": "1a90c295"
   },
   "outputs": [],
   "source": [
    "yearly = pd.pivot_table(data=passengers,values='Passengers',index='Year',columns='Month')\n",
    "yearly = yearly[['Jan','Feb','Mar','Apr','May','Jun','Jul','Aug','Sep','Oct','Nov','Dec']]"
   ]
  },
  {
   "cell_type": "code",
   "execution_count": null,
   "id": "a696438d",
   "metadata": {
    "colab": {
     "base_uri": "https://localhost:8080/",
     "height": 0
    },
    "id": "a696438d",
    "outputId": "5c511cfd-3929-4c49-afd2-8275b6f2cea4"
   },
   "outputs": [],
   "source": [
    "yearly"
   ]
  },
  {
   "cell_type": "code",
   "execution_count": null,
   "id": "4dd91a1b",
   "metadata": {
    "colab": {
     "base_uri": "https://localhost:8080/",
     "height": 0
    },
    "id": "4dd91a1b",
    "outputId": "2e19a164-4aed-4c4c-dc7a-abe711d432f3"
   },
   "outputs": [],
   "source": [
    "yearly.plot(figsize=(8,6))\n",
    "plt.show()"
   ]
  },
  {
   "cell_type": "code",
   "execution_count": null,
   "id": "fc8b736e",
   "metadata": {
    "colab": {
     "base_uri": "https://localhost:8080/",
     "height": 0
    },
    "id": "fc8b736e",
    "outputId": "46919386-2456-4478-b477-e9221429841d"
   },
   "outputs": [],
   "source": [
    "yearly.plot(kind='box',figsize=(8,6))\n",
    "plt.show()"
   ]
  },
  {
   "cell_type": "code",
   "execution_count": null,
   "id": "0399a270",
   "metadata": {
    "colab": {
     "base_uri": "https://localhost:8080/"
    },
    "id": "0399a270",
    "outputId": "1fb06b53-7884-4b54-d127-f6f7516ada75"
   },
   "outputs": [],
   "source": [
    "# Perform Dickey-Fuller test:\n",
    "from statsmodels.tsa.stattools import adfuller\n",
    "adfuller(passengers_count)"
   ]
  },
  {
   "cell_type": "code",
   "execution_count": null,
   "id": "4a185304",
   "metadata": {
    "colab": {
     "base_uri": "https://localhost:8080/"
    },
    "id": "4a185304",
    "outputId": "6fb2c3e8-b8d4-4ac4-cca7-45756c729baf"
   },
   "outputs": [],
   "source": [
    "adfuller_results = pd.Series(adfuller(passengers_count)[:4],index=['T stats','p-value','lags used','Number of observations'])\n",
    "for key,value in adfuller(passengers_count)[4].items():\n",
    "    adfuller_results['Critical Value'+' '+ key] = value\n",
    "print(adfuller_results)"
   ]
  },
  {
   "cell_type": "code",
   "execution_count": null,
   "id": "57c2dc59",
   "metadata": {
    "colab": {
     "base_uri": "https://localhost:8080/",
     "height": 0
    },
    "id": "57c2dc59",
    "outputId": "154b5749-f80f-4281-aca9-f1ef21e398a0"
   },
   "outputs": [],
   "source": [
    "passengers_count.plot()\n",
    "plt.show()"
   ]
  },
  {
   "cell_type": "code",
   "execution_count": null,
   "id": "b4ac3ed2",
   "metadata": {
    "id": "b4ac3ed2"
   },
   "outputs": [],
   "source": [
    "passengers_log = np.log10(passengers_count)"
   ]
  },
  {
   "cell_type": "code",
   "execution_count": null,
   "id": "0055a31e",
   "metadata": {
    "colab": {
     "base_uri": "https://localhost:8080/",
     "height": 0
    },
    "id": "0055a31e",
    "outputId": "4f6a3124-8e13-4507-a5e6-5d78735fd335"
   },
   "outputs": [],
   "source": [
    "passengers_log.plot()\n",
    "plt.show()"
   ]
  },
  {
   "cell_type": "code",
   "execution_count": null,
   "id": "1beaa06c",
   "metadata": {
    "colab": {
     "base_uri": "https://localhost:8080/"
    },
    "id": "1beaa06c",
    "outputId": "1658fd7b-47e1-47d7-955f-3fee10ab11d3"
   },
   "outputs": [],
   "source": [
    "# Perform Dickey-Fuller test:\n",
    "from statsmodels.tsa.stattools import adfuller\n",
    "adfuller(passengers_log)\n",
    "adfuller_results = pd.Series(adfuller(passengers_log)[:4],index=['T stats','p-value','lags used','Number of observations'])\n",
    "for key,value in adfuller(passengers_log)[4].items():\n",
    "    adfuller_results['Critical Value (%s)'%key] = value\n",
    "print(adfuller_results)"
   ]
  },
  {
   "cell_type": "markdown",
   "id": "508798c2",
   "metadata": {
    "id": "508798c2"
   },
   "source": [
    "The p-value is still greater than 0.05 (Coinfidence Interval 95%).\n",
    "The log transformation has made variance stationary but mean is still increasing.\n",
    "Let's try differencing by 1."
   ]
  },
  {
   "cell_type": "code",
   "execution_count": null,
   "id": "967d7054",
   "metadata": {
    "colab": {
     "base_uri": "https://localhost:8080/"
    },
    "id": "967d7054",
    "outputId": "0caa67de-d405-4482-91da-f124d69ac468"
   },
   "outputs": [],
   "source": [
    "diff1 = passengers_count.diff(1)\n",
    "diff1.head()"
   ]
  },
  {
   "cell_type": "code",
   "execution_count": null,
   "id": "fea6159a",
   "metadata": {
    "id": "fea6159a"
   },
   "outputs": [],
   "source": [
    "diff1.dropna(axis=0,inplace=True)"
   ]
  },
  {
   "cell_type": "code",
   "execution_count": null,
   "id": "a3eccae1",
   "metadata": {
    "colab": {
     "base_uri": "https://localhost:8080/",
     "height": 0
    },
    "id": "a3eccae1",
    "outputId": "37425db4-fb99-4e93-e95e-abecaaa73927"
   },
   "outputs": [],
   "source": [
    "diff1.plot()\n",
    "plt.show()"
   ]
  },
  {
   "cell_type": "code",
   "execution_count": null,
   "id": "ce89ccb5",
   "metadata": {
    "colab": {
     "base_uri": "https://localhost:8080/"
    },
    "id": "ce89ccb5",
    "outputId": "df1bb0b2-a960-47af-d5e9-c1a5ff870d2b"
   },
   "outputs": [],
   "source": [
    "# Perform Dickey-Fuller test:\n",
    "from statsmodels.tsa.stattools import adfuller\n",
    "adfuller(diff1)\n",
    "adfuller_results = pd.Series(adfuller(diff1)[:4],index=['T stats','p-value','lags used','Number of observations'])\n",
    "for key,value in adfuller(diff1)[4].items():\n",
    "    adfuller_results['Critical Value (%s)'%key] = value\n",
    "print(adfuller_results)"
   ]
  },
  {
   "cell_type": "code",
   "execution_count": null,
   "id": "855476c0",
   "metadata": {
    "colab": {
     "base_uri": "https://localhost:8080/"
    },
    "id": "855476c0",
    "outputId": "f4a9643d-4ce7-497a-820b-8c707e1c90bb"
   },
   "outputs": [],
   "source": [
    "log_diff1 = passengers_log.diff(1)\n",
    "log_diff1.head()"
   ]
  },
  {
   "cell_type": "code",
   "execution_count": null,
   "id": "a9288394",
   "metadata": {
    "id": "a9288394"
   },
   "outputs": [],
   "source": [
    "log_diff1.dropna(axis=0,inplace=True)"
   ]
  },
  {
   "cell_type": "code",
   "execution_count": null,
   "id": "0e01f048",
   "metadata": {
    "colab": {
     "base_uri": "https://localhost:8080/",
     "height": 0
    },
    "id": "0e01f048",
    "outputId": "df8c5f78-f6f4-4333-b4b2-ef9390fff195"
   },
   "outputs": [],
   "source": [
    "log_diff1.plot()\n",
    "plt.show()"
   ]
  },
  {
   "cell_type": "code",
   "execution_count": null,
   "id": "af4ff84a",
   "metadata": {
    "colab": {
     "base_uri": "https://localhost:8080/"
    },
    "id": "af4ff84a",
    "outputId": "23f0cc41-f9da-4eef-bc96-ca6290625cf4"
   },
   "outputs": [],
   "source": [
    "# Perform Dickey-Fuller test:\n",
    "from statsmodels.tsa.stattools import adfuller\n",
    "adfuller(log_diff1)\n",
    "adfuller_results = pd.Series(adfuller(log_diff1)[:4],index=['T stats','p-value','lags used','Number of observations'])\n",
    "for key,value in adfuller(log_diff1)[4].items():\n",
    "    adfuller_results['Critical Value (%s)'%key] = value\n",
    "print(adfuller_results)"
   ]
  },
  {
   "cell_type": "code",
   "execution_count": null,
   "id": "7a887a8c",
   "metadata": {
    "colab": {
     "base_uri": "https://localhost:8080/"
    },
    "id": "7a887a8c",
    "outputId": "39e79c56-4f12-4346-dd56-cbbb9c90d291"
   },
   "outputs": [],
   "source": [
    "log_diff2 = passengers_log.diff(2)\n",
    "log_diff2.head()"
   ]
  },
  {
   "cell_type": "code",
   "execution_count": null,
   "id": "a99e045d",
   "metadata": {
    "id": "a99e045d"
   },
   "outputs": [],
   "source": [
    "log_diff2.dropna(axis=0,inplace=True)"
   ]
  },
  {
   "cell_type": "code",
   "execution_count": null,
   "id": "2c07c68a",
   "metadata": {
    "colab": {
     "base_uri": "https://localhost:8080/",
     "height": 0
    },
    "id": "2c07c68a",
    "outputId": "83a83d51-2295-4bf2-b85f-4e62e7cc1713"
   },
   "outputs": [],
   "source": [
    "log_diff2.plot()\n",
    "plt.show()"
   ]
  },
  {
   "cell_type": "code",
   "execution_count": null,
   "id": "09c2dc27",
   "metadata": {
    "colab": {
     "base_uri": "https://localhost:8080/"
    },
    "id": "09c2dc27",
    "outputId": "cc5bb467-e8b1-4b35-db9b-0edc12555d04"
   },
   "outputs": [],
   "source": [
    "# Perform Dickey-Fuller test:\n",
    "from statsmodels.tsa.stattools import adfuller\n",
    "adfuller(log_diff2)\n",
    "adfuller_results = pd.Series(adfuller(log_diff2)[:4],index=['T stats','p-value','lags used','Number of observations'])\n",
    "for key,value in adfuller(log_diff2)[4].items():\n",
    "    adfuller_results['Critical Value (%s)'%key] = value\n",
    "print(adfuller_results)"
   ]
  },
  {
   "cell_type": "markdown",
   "id": "4951b859",
   "metadata": {
    "id": "4951b859"
   },
   "source": [
    "p-value is less than 0.05. In this case we reject null hypothesis that TS is non stationary."
   ]
  },
  {
   "cell_type": "code",
   "execution_count": null,
   "id": "c5ed9bf1",
   "metadata": {
    "id": "c5ed9bf1"
   },
   "outputs": [],
   "source": [
    "import itertools\n",
    "# Define the p, d and q parameters to take any value between 0 and 2\n",
    "p = q = range(0, 3)\n",
    "d = range(0,1)\n",
    "# Generate all different combinations of p, d and q triplets\n",
    "pdq = list(itertools.product(p, d, q))"
   ]
  },
  {
   "cell_type": "code",
   "execution_count": null,
   "id": "f0c30a3a",
   "metadata": {
    "colab": {
     "base_uri": "https://localhost:8080/"
    },
    "id": "f0c30a3a",
    "outputId": "e3d33e11-7389-4076-b3e5-f8c5d53a01d1"
   },
   "outputs": [],
   "source": [
    "pdq"
   ]
  },
  {
   "cell_type": "code",
   "execution_count": null,
   "id": "af5db010",
   "metadata": {
    "id": "af5db010"
   },
   "outputs": [],
   "source": [
    "# Generate all different combinations of seasonal p, q and q triplets\n",
    "D = range(0,3)\n",
    "P = Q = range(0, 3) \n",
    "seasonal_pdq = [(x[0], x[1], x[2], 12) for x in list(itertools.product(P, D, Q))]"
   ]
  },
  {
   "cell_type": "code",
   "execution_count": null,
   "id": "c40a0127",
   "metadata": {
    "colab": {
     "base_uri": "https://localhost:8080/"
    },
    "id": "c40a0127",
    "outputId": "92e75689-dc23-40e2-a34f-9997083b1627"
   },
   "outputs": [],
   "source": [
    "seasonal_pdq"
   ]
  },
  {
   "cell_type": "code",
   "execution_count": null,
   "id": "f2b80a51",
   "metadata": {
    "colab": {
     "base_uri": "https://localhost:8080/"
    },
    "id": "f2b80a51",
    "outputId": "4ec2111c-fb73-40e1-b154-59bf696c4bbd"
   },
   "outputs": [],
   "source": [
    "import sys\n",
    "warnings.filterwarnings(\"ignore\") # specify to ignore warning messages\n",
    "\n",
    "best_aic = np.inf\n",
    "best_pdq = None\n",
    "best_seasonal_pdq = None\n",
    "temp_model = None\n",
    "\n",
    "for param in pdq:\n",
    "    for param_seasonal in seasonal_pdq:\n",
    "       \n",
    "        try:\n",
    "            temp_model = sm.tsa.statespace.SARIMAX(log_diff2,\n",
    "                                             order = param,\n",
    "                                             seasonal_order = param_seasonal,\n",
    "                                             enforce_stationarity=False,\n",
    "                                             enforce_invertibility=False)\n",
    "            results = temp_model.fit()\n",
    "\n",
    "           # print(\"SARIMAX{}x{}12 - AIC:{}\".format(param, param_seasonal, results.aic))\n",
    "            if results.aic < best_aic:\n",
    "                best_aic = results.aic\n",
    "                best_pdq = param\n",
    "                best_seasonal_pdq = param_seasonal\n",
    "        except:\n",
    "            #print(\"Unexpected error:\", sys.exc_info()[0])\n",
    "            continue\n",
    "print(\"Best SARIMAX{}x{}12 model - AIC:{}\".format(best_pdq, best_seasonal_pdq, best_aic))"
   ]
  },
  {
   "cell_type": "code",
   "execution_count": null,
   "id": "e91YKm6OFPKe",
   "metadata": {
    "id": "e91YKm6OFPKe"
   },
   "outputs": [],
   "source": [
    "sarima = sm.tsa.statespace.SARIMAX(log_diff2,order=(1,0,1),seasonal_order=(1,0,1,12),enforce_invertibility=False,enforce_stationarity=False)"
   ]
  },
  {
   "cell_type": "code",
   "execution_count": null,
   "id": "HojF2psUFTO7",
   "metadata": {
    "id": "HojF2psUFTO7"
   },
   "outputs": [],
   "source": [
    "sarima_results = sarima.fit()"
   ]
  },
  {
   "cell_type": "code",
   "execution_count": null,
   "id": "Q9tLWZmgFVW8",
   "metadata": {
    "colab": {
     "base_uri": "https://localhost:8080/"
    },
    "id": "Q9tLWZmgFVW8",
    "outputId": "0c900581-a3f8-4d65-db8a-a129c43d5016"
   },
   "outputs": [],
   "source": [
    "print(sarima_results.summary())"
   ]
  },
  {
   "cell_type": "code",
   "execution_count": null,
   "id": "rmT5tJt7FXXM",
   "metadata": {
    "colab": {
     "base_uri": "https://localhost:8080/"
    },
    "id": "rmT5tJt7FXXM",
    "outputId": "16a211a4-6cad-4d96-d334-42a84c43ce18"
   },
   "outputs": [],
   "source": [
    "passengers_count.tail(15)"
   ]
  },
  {
   "cell_type": "code",
   "execution_count": null,
   "id": "_P2rp9LmFag8",
   "metadata": {
    "id": "_P2rp9LmFag8"
   },
   "outputs": [],
   "source": [
    "prediction = sarima_results.get_prediction(start=pd.to_datetime('1960-01-01'),full_results=True)"
   ]
  },
  {
   "cell_type": "code",
   "execution_count": null,
   "id": "MoqbbLPqFeln",
   "metadata": {
    "colab": {
     "base_uri": "https://localhost:8080/"
    },
    "id": "MoqbbLPqFeln",
    "outputId": "a3aaa3e4-778c-4eb3-eeff-b52a33267ee9"
   },
   "outputs": [],
   "source": [
    "prediction.predicted_mean"
   ]
  },
  {
   "cell_type": "code",
   "execution_count": null,
   "id": "P9m5StR-Fgp8",
   "metadata": {
    "id": "P9m5StR-Fgp8"
   },
   "outputs": [],
   "source": [
    "predicted_values = np.power(10,prediction.predicted_mean)"
   ]
  },
  {
   "cell_type": "code",
   "execution_count": null,
   "id": "iOCFTNvkFi0I",
   "metadata": {
    "colab": {
     "base_uri": "https://localhost:8080/"
    },
    "id": "iOCFTNvkFi0I",
    "outputId": "71566dc3-6e04-4ee5-e630-4d9d6f69f70a"
   },
   "outputs": [],
   "source": [
    "predicted_values"
   ]
  },
  {
   "cell_type": "code",
   "execution_count": null,
   "id": "94FWm_KHFkkY",
   "metadata": {
    "id": "94FWm_KHFkkY"
   },
   "outputs": [],
   "source": [
    "actual = passengers_count['1960-01-01':]"
   ]
  },
  {
   "cell_type": "code",
   "execution_count": null,
   "id": "AgDih2f6Fm3g",
   "metadata": {
    "colab": {
     "base_uri": "https://localhost:8080/"
    },
    "id": "AgDih2f6Fm3g",
    "outputId": "8c46ecdc-2764-40eb-8c9c-6cab7d4ae4cc"
   },
   "outputs": [],
   "source": [
    "actual"
   ]
  },
  {
   "cell_type": "code",
   "execution_count": null,
   "id": "RH_MIijRFpGo",
   "metadata": {
    "colab": {
     "base_uri": "https://localhost:8080/"
    },
    "id": "RH_MIijRFpGo",
    "outputId": "12482701-57fb-42af-9adb-851c14b5871c"
   },
   "outputs": [],
   "source": [
    "# mean absolute percentage error\n",
    "mape = np.mean(np.abs(actual - predicted_values)/actual)\n",
    "mape"
   ]
  },
  {
   "cell_type": "code",
   "execution_count": null,
   "id": "ILKpU8n5FrJ0",
   "metadata": {
    "colab": {
     "base_uri": "https://localhost:8080/"
    },
    "id": "ILKpU8n5FrJ0",
    "outputId": "634f968e-3fa4-4870-97fa-feae72aa30ba"
   },
   "outputs": [],
   "source": [
    "# mean square error\n",
    "mse = np.mean((actual - predicted_values) ** 2)\n",
    "mse"
   ]
  },
  {
   "cell_type": "code",
   "execution_count": null,
   "id": "g0D8VnDwF9eD",
   "metadata": {
    "id": "g0D8VnDwF9eD"
   },
   "outputs": [],
   "source": [
    "# Get forecast 36 steps (3 years) ahead in future\n",
    "n_steps = 36\n",
    "pred_uc_99 = sarima_results.get_forecast(steps=36, alpha=0.01) # alpha=0.01 signifies 99% confidence interval\n",
    "pred_uc_95 = sarima_results.get_forecast(steps=36, alpha=0.05) # alpha=0.05 95% CI\n",
    "\n",
    "# Get confidence intervals 95% & 99% of the forecasts\n",
    "pred_ci_99 = pred_uc_99.conf_int()\n",
    "pred_ci_95 = pred_uc_95.conf_int()"
   ]
  },
  {
   "cell_type": "code",
   "execution_count": null,
   "id": "Im4Ha1zfGAm9",
   "metadata": {
    "colab": {
     "base_uri": "https://localhost:8080/",
     "height": 206
    },
    "id": "Im4Ha1zfGAm9",
    "outputId": "ac81f91a-2fff-4462-fc3f-a323efdd0376"
   },
   "outputs": [],
   "source": [
    "pred_ci_99.head()"
   ]
  },
  {
   "cell_type": "code",
   "execution_count": null,
   "id": "8vofj51lGC7N",
   "metadata": {
    "colab": {
     "base_uri": "https://localhost:8080/",
     "height": 206
    },
    "id": "8vofj51lGC7N",
    "outputId": "fcea93b4-961f-4b85-973b-996c41a2c1b6"
   },
   "outputs": [],
   "source": [
    "pred_ci_95.head()"
   ]
  },
  {
   "cell_type": "code",
   "execution_count": null,
   "id": "5_jCuAtGGF0X",
   "metadata": {
    "id": "5_jCuAtGGF0X"
   },
   "outputs": [],
   "source": [
    "n_steps = 36\n",
    "idx = pd.date_range(passengers_count.index[-1], periods=n_steps, freq='MS')\n",
    "fc_95 = pd.DataFrame(np.column_stack([np.power(10, pred_uc_95.predicted_mean), np.power(10, pred_ci_95)]), \n",
    "                     index=idx, columns=['forecast', 'lower_ci_95', 'upper_ci_95'])\n",
    "fc_99 = pd.DataFrame(np.column_stack([np.power(10, pred_ci_99)]), \n",
    "                     index=idx, columns=['lower_ci_99', 'upper_ci_99'])"
   ]
  },
  {
   "cell_type": "code",
   "execution_count": null,
   "id": "xPi0CcqnGIz7",
   "metadata": {
    "colab": {
     "base_uri": "https://localhost:8080/",
     "height": 206
    },
    "id": "xPi0CcqnGIz7",
    "outputId": "5b0b899c-fd3e-4aaa-861a-5865f9adec5e"
   },
   "outputs": [],
   "source": [
    "fc_95.head()"
   ]
  },
  {
   "cell_type": "code",
   "execution_count": null,
   "id": "F5C1G147GLAn",
   "metadata": {
    "colab": {
     "base_uri": "https://localhost:8080/",
     "height": 206
    },
    "id": "F5C1G147GLAn",
    "outputId": "44c32bd2-da1b-4f8c-9517-a3acda675995"
   },
   "outputs": [],
   "source": [
    "fc_99.head()"
   ]
  },
  {
   "cell_type": "code",
   "execution_count": null,
   "id": "RjS-3FMrGPlo",
   "metadata": {
    "colab": {
     "base_uri": "https://localhost:8080/",
     "height": 206
    },
    "id": "RjS-3FMrGPlo",
    "outputId": "0782a576-dc9f-41ae-fc56-dbc31782ff24"
   },
   "outputs": [],
   "source": [
    "fc_all = fc_95.combine_first(fc_99)\n",
    "fc_all = fc_all[['forecast', 'lower_ci_95', 'upper_ci_95', 'lower_ci_99', 'upper_ci_99']] # just reordering columns\n",
    "fc_all.head()"
   ]
  },
  {
   "cell_type": "code",
   "execution_count": null,
   "id": "3q4Bl6LgGSzF",
   "metadata": {
    "colab": {
     "base_uri": "https://localhost:8080/",
     "height": 388
    },
    "id": "3q4Bl6LgGSzF",
    "outputId": "7d129dfa-b087-4b82-c477-cab8854fbe8f"
   },
   "outputs": [],
   "source": [
    "# plot the forecast along with the confidence band\n",
    "axis = passengers_count.plot(label='Observed', figsize=(15, 6))\n",
    "fc_all['forecast'].plot(ax=axis, label='Forecast', alpha=0.7)\n",
    "#axis.fill_between(fc_all.index, fc_all['lower_ci_95'], fc_all['upper_ci_95'], color='k', alpha=.25)\n",
    "axis.fill_between(fc_all.index, fc_all['lower_ci_99'], fc_all['upper_ci_99'], color='k', alpha=.25)\n",
    "axis.set_xlabel('Years')\n",
    "axis.set_ylabel('Tractor Sales')\n",
    "plt.legend(loc='best')\n",
    "plt.show()"
   ]
  },
  {
   "cell_type": "code",
   "execution_count": null,
   "id": "i_b-N0DBGfXA",
   "metadata": {
    "colab": {
     "base_uri": "https://localhost:8080/",
     "height": 1000
    },
    "id": "i_b-N0DBGfXA",
    "outputId": "7a4fef23-6c93-4d76-9f56-c85501b4c023"
   },
   "outputs": [],
   "source": [
    "sarima_results.plot_diagnostics(lags=30,figsize=(10,8))"
   ]
  },
  {
   "cell_type": "code",
   "execution_count": null,
   "id": "UPcbGK8nGoEq",
   "metadata": {
    "id": "UPcbGK8nGoEq"
   },
   "outputs": [],
   "source": []
  }
 ],
 "metadata": {
  "colab": {
   "collapsed_sections": [
    "4cdf7240",
    "62227ab3",
    "4c1346f0",
    "2bda206e",
    "4719e528",
    "b57c6d89"
   ],
   "name": "Assignment Forecasting( Airline data) 1.ipynb",
   "provenance": []
  },
  "kernelspec": {
   "display_name": "Python 3",
   "language": "python",
   "name": "python3"
  },
  "language_info": {
   "codemirror_mode": {
    "name": "ipython",
    "version": 3
   },
   "file_extension": ".py",
   "mimetype": "text/x-python",
   "name": "python",
   "nbconvert_exporter": "python",
   "pygments_lexer": "ipython3",
   "version": "3.8.8"
  }
 },
 "nbformat": 4,
 "nbformat_minor": 5
}
